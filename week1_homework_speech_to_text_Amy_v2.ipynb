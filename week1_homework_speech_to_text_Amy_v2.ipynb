{
 "cells": [
  {
   "cell_type": "markdown",
   "id": "ead30899",
   "metadata": {},
   "source": [
    "# Speech-to-text"
   ]
  },
  {
   "cell_type": "markdown",
   "id": "33c7884b",
   "metadata": {},
   "source": [
    "## convert speech to text"
   ]
  },
  {
   "cell_type": "code",
   "execution_count": 1,
   "id": "f9dc6846",
   "metadata": {
    "ExecuteTime": {
     "end_time": "2023-11-10T21:03:30.950818Z",
     "start_time": "2023-11-10T21:03:30.877108Z"
    }
   },
   "outputs": [
    {
     "data": {
      "text/plain": [
       "True"
      ]
     },
     "execution_count": 1,
     "metadata": {},
     "output_type": "execute_result"
    }
   ],
   "source": [
    "import azure.cognitiveservices.speech as speechsdk\n",
    "import os\n",
    "\n",
    "from dotenv import load_dotenv\n",
    "load_dotenv()"
   ]
  },
  {
   "cell_type": "code",
   "execution_count": 2,
   "id": "0665b3cc",
   "metadata": {
    "ExecuteTime": {
     "end_time": "2023-11-10T21:03:35.248987Z",
     "start_time": "2023-11-10T21:03:35.244983Z"
    }
   },
   "outputs": [],
   "source": [
    "speech_key, service_region = os.getenv('SPEECH_SERVICE_KEY'), \"eastus\"\n",
    "\n",
    "speech_config = speechsdk.SpeechConfig(subscription=speech_key, region=service_region)"
   ]
  },
  {
   "cell_type": "code",
   "execution_count": 3,
   "id": "6a4c32a4",
   "metadata": {
    "ExecuteTime": {
     "end_time": "2023-11-10T21:03:45.352544Z",
     "start_time": "2023-11-10T21:03:37.868980Z"
    }
   },
   "outputs": [
    {
     "name": "stdout",
     "output_type": "stream",
     "text": [
      "Recognizing speech from file...\n"
     ]
    }
   ],
   "source": [
    "audio_file = \"./TedTalk_Bill_Gates.wav\"\n",
    "\n",
    "# Creates an audio configuration that points to an audio file\n",
    "audio_config = speechsdk.audio.AudioConfig(filename=audio_file)\n",
    "\n",
    "# Creates a recognizer with the given settings\n",
    "speech_recognizer = speechsdk.SpeechRecognizer(speech_config=speech_config, audio_config=audio_config)\n",
    "\n",
    "print(\"Recognizing speech from file...\")\n",
    "result = speech_recognizer.recognize_once()"
   ]
  },
  {
   "cell_type": "code",
   "execution_count": 4,
   "id": "fec268eb",
   "metadata": {
    "ExecuteTime": {
     "end_time": "2023-11-10T21:03:51.429535Z",
     "start_time": "2023-11-10T21:03:51.412875Z"
    }
   },
   "outputs": [
    {
     "name": "stdout",
     "output_type": "stream",
     "text": [
      "Recognized: I'm going to talk today about energy and climate, and that might seem a bit surprising because my full time work at the Foundation is mostly about vaccines and seeds, about the things that we need to invent and deliver to help the poorest 2 billion live better lives.\n"
     ]
    }
   ],
   "source": [
    "if result.reason == speechsdk.ResultReason.RecognizedSpeech:\n",
    "    print(\"Recognized: {}\".format(result.text))\n",
    "elif result.reason == speechsdk.ResultReason.NoMatch:\n",
    "    print(\"No speech could be recognized: {}\".format(result.no_match_details))\n",
    "elif result.reason == speechsdk.ResultReason.Canceled:\n",
    "    cancellation_details = result.cancellation_details\n",
    "    print(\"Speech Recognition canceled: {}\".format(cancellation_details.reason))\n",
    "    if cancellation_details.reason == speechsdk.CancellationReason.Error:\n",
    "        print(\"Error details: {}\".format(cancellation_details.error_details))"
   ]
  },
  {
   "cell_type": "code",
   "execution_count": 5,
   "id": "72ef69a3",
   "metadata": {
    "ExecuteTime": {
     "end_time": "2023-11-10T21:03:55.581843Z",
     "start_time": "2023-11-10T21:03:55.572745Z"
    }
   },
   "outputs": [
    {
     "name": "stdout",
     "output_type": "stream",
     "text": [
      "I'm going to talk today about energy and climate, and that might seem a bit surprising because my full time work at the Foundation is mostly about vaccines and seeds, about the things that we need to invent and deliver to help the poorest 2 billion live better lives.\n"
     ]
    }
   ],
   "source": [
    "# Prints the recognized text\n",
    "print(result.text)"
   ]
  },
  {
   "cell_type": "markdown",
   "id": "57635e8f",
   "metadata": {},
   "source": [
    "## summary the text"
   ]
  },
  {
   "cell_type": "code",
   "execution_count": 6,
   "id": "2a4d1bdb",
   "metadata": {
    "ExecuteTime": {
     "end_time": "2023-11-10T21:04:00.840875Z",
     "start_time": "2023-11-10T21:04:00.662271Z"
    }
   },
   "outputs": [],
   "source": [
    "from azure.core.credentials import AzureKeyCredential\n",
    "from azure.ai.textanalytics import TextAnalyticsClient"
   ]
  },
  {
   "cell_type": "code",
   "execution_count": 7,
   "id": "af8d5b34",
   "metadata": {
    "ExecuteTime": {
     "end_time": "2023-11-10T21:04:02.071489Z",
     "start_time": "2023-11-10T21:04:02.052933Z"
    }
   },
   "outputs": [],
   "source": [
    "endpoint = os.environ[\"AZURE_LANGUAGE_ENDPOINT\"]\n",
    "key = os.environ[\"AZURE_LANGUAGE_KEY\"]"
   ]
  },
  {
   "cell_type": "code",
   "execution_count": 8,
   "id": "74fe76d9",
   "metadata": {
    "ExecuteTime": {
     "end_time": "2023-11-10T21:04:03.830680Z",
     "start_time": "2023-11-10T21:04:03.692847Z"
    }
   },
   "outputs": [],
   "source": [
    "text_analytics_client = TextAnalyticsClient(\n",
    "        endpoint=endpoint,\n",
    "        credential=AzureKeyCredential(key),\n",
    "    )"
   ]
  },
  {
   "cell_type": "code",
   "execution_count": 9,
   "id": "02322f16",
   "metadata": {
    "ExecuteTime": {
     "end_time": "2023-11-10T21:04:06.380963Z",
     "start_time": "2023-11-10T21:04:06.364819Z"
    }
   },
   "outputs": [
    {
     "name": "stdout",
     "output_type": "stream",
     "text": [
      "[\"I'm going to talk today about energy and climate, and that might seem a bit surprising because my full time work at the Foundation is mostly about vaccines and seeds, about the things that we need to invent and deliver to help the poorest 2 billion live better lives.\"]\n"
     ]
    }
   ],
   "source": [
    "document=[result.text]\n",
    "print(document)"
   ]
  },
  {
   "cell_type": "code",
   "execution_count": 10,
   "id": "f92f88c5",
   "metadata": {
    "ExecuteTime": {
     "end_time": "2023-11-10T21:04:13.347222Z",
     "start_time": "2023-11-10T21:04:07.748795Z"
    }
   },
   "outputs": [
    {
     "name": "stdout",
     "output_type": "stream",
     "text": [
      "Summaries abstracted:\n",
      "The author is discussing energy and climate change, despite their full-time work at the Foundation focusing on vaccines and seeds. They are discussing the need to invent and deliver these things to help the poorest 2 billion live better lives.\n",
      "\n"
     ]
    }
   ],
   "source": [
    "poller = text_analytics_client.begin_abstract_summary(document)\n",
    "\n",
    "abstract_summary_results = poller.result()\n",
    "\n",
    "for result in abstract_summary_results:\n",
    "    if result.kind == \"AbstractiveSummarization\":\n",
    "        print(\"Summaries abstracted:\")\n",
    "        [print(f\"{summary.text}\\n\") for summary in result.summaries]\n",
    "    elif result.is_error is True:\n",
    "        print(\"...Is an error with code '{}' and message '{}'\".format(\n",
    "            result.error.code, result.error.message\n",
    "         ))"
   ]
  }
 ],
 "metadata": {
  "kernelspec": {
   "display_name": "Python 3 (ipykernel)",
   "language": "python",
   "name": "python3"
  },
  "language_info": {
   "codemirror_mode": {
    "name": "ipython",
    "version": 3
   },
   "file_extension": ".py",
   "mimetype": "text/x-python",
   "name": "python",
   "nbconvert_exporter": "python",
   "pygments_lexer": "ipython3",
   "version": "3.9.7"
  },
  "toc": {
   "base_numbering": 1,
   "nav_menu": {},
   "number_sections": true,
   "sideBar": true,
   "skip_h1_title": false,
   "title_cell": "Table of Contents",
   "title_sidebar": "Contents",
   "toc_cell": false,
   "toc_position": {},
   "toc_section_display": true,
   "toc_window_display": false
  }
 },
 "nbformat": 4,
 "nbformat_minor": 5
}
