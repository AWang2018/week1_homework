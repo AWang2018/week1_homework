{
 "cells": [
  {
   "cell_type": "markdown",
   "id": "4b615c88",
   "metadata": {},
   "source": [
    "# Speech-to-text"
   ]
  },
  {
   "cell_type": "markdown",
   "id": "00bc52eb",
   "metadata": {},
   "source": [
    "## convert speech to text"
   ]
  },
  {
   "cell_type": "code",
   "execution_count": null,
   "id": "2869554a",
   "metadata": {},
   "outputs": [],
   "source": [
    "import azure.cognitiveservices.speech as speechsdk\n",
    "import os\n",
    "from dotenv import load_dotenv\n",
    "load_dotenv()"
   ]
  },
  {
   "cell_type": "code",
   "execution_count": null,
   "id": "b745765c",
   "metadata": {},
   "outputs": [],
   "source": [
    "speech_key, service_region = os.getenv('SPEECH_SERVICE_KEY'), \"canadacentral\""
   ]
  },
  {
   "cell_type": "code",
   "execution_count": null,
   "id": "1272fe07",
   "metadata": {},
   "outputs": [],
   "source": [
    "speech_config = speechsdk.SpeechConfig(subscription=speech_key, region=service_region)"
   ]
  },
  {
   "cell_type": "code",
   "execution_count": null,
   "id": "c2bd1902",
   "metadata": {},
   "outputs": [],
   "source": [
    "audio_file = \"./BillGates_2010.wav\""
   ]
  },
  {
   "cell_type": "code",
   "execution_count": null,
   "id": "2f480268",
   "metadata": {},
   "outputs": [],
   "source": [
    "# Creates an audio configuration that points to an audio file\n",
    "audio_config = speechsdk.audio.AudioConfig(filename=audio_file)"
   ]
  },
  {
   "cell_type": "code",
   "execution_count": null,
   "id": "f4482d7d",
   "metadata": {},
   "outputs": [],
   "source": [
    "# Creates a recognizer with the given settings\n",
    "speech_recognizer = speechsdk.SpeechRecognizer(speech_config=speech_config, audio_config=audio_config)"
   ]
  },
  {
   "cell_type": "code",
   "execution_count": null,
   "id": "659b2d3d",
   "metadata": {},
   "outputs": [],
   "source": [
    "print(\"Recognizing speech from file...\")\n",
    "result = speech_recognizer.recognize_once()"
   ]
  },
  {
   "cell_type": "code",
   "execution_count": null,
   "id": "569d2968",
   "metadata": {},
   "outputs": [],
   "source": [
    "if result.reason == speechsdk.ResultReason.RecognizedSpeech:\n",
    "    print(\"Recognized: {}\".format(result.text))\n",
    "elif result.reason == speechsdk.ResultReason.NoMatch:\n",
    "    print(\"No speech could be recognized: {}\".format(result.no_match_details))\n",
    "elif result.reason == speechsdk.ResultReason.Canceled:\n",
    "    cancellation_details = result.cancellation_details\n",
    "    print(\"Speech Recognition canceled: {}\".format(cancellation_details.reason))\n",
    "    if cancellation_details.reason == speechsdk.CancellationReason.Error:\n",
    "        print(\"Error details: {}\".format(cancellation_details.error_details))"
   ]
  },
  {
   "cell_type": "code",
   "execution_count": null,
   "id": "f1dc185c",
   "metadata": {},
   "outputs": [],
   "source": [
    "# Prints the recognized text\n",
    "print(result.text)"
   ]
  },
  {
   "cell_type": "markdown",
   "id": "682c3ac0",
   "metadata": {},
   "source": [
    "## summary the text"
   ]
  },
  {
   "cell_type": "code",
   "execution_count": null,
   "id": "87535d1e",
   "metadata": {},
   "outputs": [],
   "source": [
    "from azure.core.credentials import AzureKeyCredential\n",
    "from azure.ai.textanalytics import TextAnalyticsClient"
   ]
  },
  {
   "cell_type": "code",
   "execution_count": null,
   "id": "9220dbf9",
   "metadata": {},
   "outputs": [],
   "source": [
    "endpoint = os.environ[\"AZURE_LANGUAGE_ENDPOINT\"]\n",
    "key = os.environ[\"AZURE_LANGUAGE_KEY\"]"
   ]
  },
  {
   "cell_type": "code",
   "execution_count": null,
   "id": "44a889a8",
   "metadata": {},
   "outputs": [],
   "source": [
    "text_analytics_client = TextAnalyticsClient(\n",
    "        endpoint=endpoint,\n",
    "        credential=AzureKeyCredential(key),\n",
    "    )"
   ]
  },
  {
   "cell_type": "code",
   "execution_count": null,
   "id": "76efd772",
   "metadata": {},
   "outputs": [],
   "source": [
    "document = result.text"
   ]
  },
  {
   "cell_type": "code",
   "execution_count": null,
   "id": "506871a5",
   "metadata": {},
   "outputs": [],
   "source": [
    "poller = text_analytics_client.begin_abstract_summary(document)\n",
    "\n",
    "abstract_summary_results = poller.result()\n",
    "\n",
    "for result in abstract_summary_results:\n",
    "    if result.kind == \"AbstractiveSummarization\":\n",
    "        print(\"Summaries abstracted:\")\n",
    "        [print(f\"{summary.text}\\n\") for summary in result.summaries]\n",
    "    elif result.is_error is True:\n",
    "        print(\"...Is an error with code '{}' and message '{}'\".format(\n",
    "            result.error.code, result.error.message\n",
    "         ))"
   ]
  }
 ],
 "metadata": {
  "kernelspec": {
   "display_name": "Python 3 (ipykernel)",
   "language": "python",
   "name": "python3"
  },
  "language_info": {
   "codemirror_mode": {
    "name": "ipython",
    "version": 3
   },
   "file_extension": ".py",
   "mimetype": "text/x-python",
   "name": "python",
   "nbconvert_exporter": "python",
   "pygments_lexer": "ipython3",
   "version": "3.9.7"
  },
  "toc": {
   "base_numbering": 1,
   "nav_menu": {},
   "number_sections": true,
   "sideBar": true,
   "skip_h1_title": false,
   "title_cell": "Table of Contents",
   "title_sidebar": "Contents",
   "toc_cell": false,
   "toc_position": {},
   "toc_section_display": true,
   "toc_window_display": false
  }
 },
 "nbformat": 4,
 "nbformat_minor": 5
}
